{
 "cells": [
  {
   "cell_type": "markdown",
   "id": "2f95c5f5",
   "metadata": {},
   "source": [
    "## Image Extraction"
   ]
  },
  {
   "cell_type": "code",
   "execution_count": 1,
   "id": "c2531baa",
   "metadata": {},
   "outputs": [],
   "source": [
    "import numpy as np \n",
    "import pandas as pd \n",
    "import os "
   ]
  },
  {
   "cell_type": "markdown",
   "id": "287bf7fc",
   "metadata": {},
   "source": [
    "Image Extraction: Procedure\n",
    "\n",
    "+ Loading the mobile phone image dataset\n",
    "+ Image Analysis: identify the distribution and the graphical representation of an image\n",
    "+ Dowloading the images\n",
    "+ Storing the images in seperate folders: train, test and validation"
   ]
  },
  {
   "cell_type": "markdown",
   "id": "7d95fbe9",
   "metadata": {},
   "source": [
    "### Loading mobile image dataset"
   ]
  },
  {
   "cell_type": "markdown",
   "id": "519adeb7",
   "metadata": {},
   "source": [
    "1. Select a folder"
   ]
  },
  {
   "cell_type": "code",
   "execution_count": 2,
   "id": "abefc552",
   "metadata": {},
   "outputs": [],
   "source": [
    "# Implement function for selecting a folder \n",
    "def select_folder(sel_folder: str) -> str:\n",
    "    # Initialise project path and data folder name\n",
    "    proj_path = \"C:\\\\Development\\\\Projects\\\\MachineLearning\\\\Mobile-Image_Classifier-System\"\n",
    "    source_folder_name = \"src\"\n",
    "\n",
    "    # Create source folder variable\n",
    "    source_folder = os.path.join(proj_path, source_folder_name)\n",
    "\n",
    "    # Iteration: check if all required folders exist\n",
    "    for folder in os.listdir(source_folder):\n",
    "        try:\n",
    "            # Create folder path variable\n",
    "            folder_path = os.path.join(source_folder, folder)\n",
    "\n",
    "            # Check if folder exist\n",
    "            if not os.path.exists(folder_path):\n",
    "                # Create a new existing folder\n",
    "                new_folder = os.path.join(folder_path, folder)\n",
    "                os.mkdir(new_folder)\n",
    "        except OSError:\n",
    "            # print(folder_path)\n",
    "            print(new_folder)\n",
    "\n",
    "    # Select the required folder \n",
    "    if sel_folder in os.listdir(source_folder):\n",
    "        selected_folder_path = os.path.join(source_folder, sel_folder)\n",
    "        return selected_folder_path\n"
   ]
  },
  {
   "cell_type": "markdown",
   "id": "fd91ee88",
   "metadata": {},
   "source": [
    "2. Select a csv-file from a folder"
   ]
  },
  {
   "cell_type": "code",
   "execution_count": 3,
   "id": "c994e47b",
   "metadata": {},
   "outputs": [],
   "source": [
    "# Select a CSV-file from a folder\n",
    "def select_csv_file(filename: str, folder: str) -> str:\n",
    "    # Select a folder\n",
    "    sel_folder = select_folder(folder)\n",
    "    \n",
    "    # Select a csv-file (if it exists)\n",
    "    csv_filename = f\"{filename}.csv\"\n",
    "    \n",
    "    if csv_filename in os.listdir(sel_folder):\n",
    "        filename_path = os.path.join(sel_folder, csv_filename)\n",
    "        return filename_path\n",
    "\n",
    "    # return sel_folder"
   ]
  },
  {
   "cell_type": "code",
   "execution_count": 6,
   "id": "cb141d54",
   "metadata": {},
   "outputs": [
    {
     "data": {
      "text/html": [
       "<div>\n",
       "<style scoped>\n",
       "    .dataframe tbody tr th:only-of-type {\n",
       "        vertical-align: middle;\n",
       "    }\n",
       "\n",
       "    .dataframe tbody tr th {\n",
       "        vertical-align: top;\n",
       "    }\n",
       "\n",
       "    .dataframe thead th {\n",
       "        text-align: right;\n",
       "    }\n",
       "</style>\n",
       "<table border=\"1\" class=\"dataframe\">\n",
       "  <thead>\n",
       "    <tr style=\"text-align: right;\">\n",
       "      <th></th>\n",
       "      <th>Names</th>\n",
       "      <th>Image_Links</th>\n",
       "      <th>Stars</th>\n",
       "      <th>Rating&amp;Reviews</th>\n",
       "      <th>Price_Details</th>\n",
       "      <th>Memory</th>\n",
       "      <th>Camara_Info</th>\n",
       "      <th>Display</th>\n",
       "      <th>Battery</th>\n",
       "      <th>Processor</th>\n",
       "      <th>Warranty</th>\n",
       "    </tr>\n",
       "  </thead>\n",
       "  <tbody>\n",
       "    <tr>\n",
       "      <th>0</th>\n",
       "      <td>SAMSUNG Galaxy F13 (Waterfall Blue, 64 GB)</td>\n",
       "      <td>https://rukminim1.flixcart.com/image/312/312/x...</td>\n",
       "      <td>4.4</td>\n",
       "      <td>1,20,759 Ratings &amp; 7,003 Reviews</td>\n",
       "      <td>₹9,699\\n₹14,99935% off</td>\n",
       "      <td>4 GB RAM | 64 GB ROM | Expandable Upto 1 TB</td>\n",
       "      <td>50MP + 5MP + 2MP | 8MP Front Camera</td>\n",
       "      <td>16.76 cm (6.6 inch) Full HD+ Display</td>\n",
       "      <td>6000 mAh Lithium Ion Battery</td>\n",
       "      <td>Exynos 850 Processor</td>\n",
       "      <td>1 Year Warranty Provided By the Manufacturer f...</td>\n",
       "    </tr>\n",
       "  </tbody>\n",
       "</table>\n",
       "</div>"
      ],
      "text/plain": [
       "                                        Names  \\\n",
       "0  SAMSUNG Galaxy F13 (Waterfall Blue, 64 GB)   \n",
       "\n",
       "                                         Image_Links  Stars  \\\n",
       "0  https://rukminim1.flixcart.com/image/312/312/x...    4.4   \n",
       "\n",
       "                     Rating&Reviews           Price_Details  \\\n",
       "0  1,20,759 Ratings & 7,003 Reviews  ₹9,699\\n₹14,99935% off   \n",
       "\n",
       "                                        Memory  \\\n",
       "0  4 GB RAM | 64 GB ROM | Expandable Upto 1 TB   \n",
       "\n",
       "                           Camara_Info                               Display  \\\n",
       "0  50MP + 5MP + 2MP | 8MP Front Camera  16.76 cm (6.6 inch) Full HD+ Display   \n",
       "\n",
       "                        Battery             Processor  \\\n",
       "0  6000 mAh Lithium Ion Battery  Exynos 850 Processor   \n",
       "\n",
       "                                            Warranty  \n",
       "0  1 Year Warranty Provided By the Manufacturer f...  "
      ]
     },
     "execution_count": 6,
     "metadata": {},
     "output_type": "execute_result"
    }
   ],
   "source": [
    "# Load the dataset\n",
    "csv_file = select_csv_file(filename=\"mobiles\", folder=\"data\")\n",
    "data = pd.read_csv(csv_file, index_col=0)\n",
    "data.head(1)\n",
    "\n",
    "# Rename the columns\n",
    "# data.columns"
   ]
  },
  {
   "cell_type": "markdown",
   "id": "9c06b673",
   "metadata": {},
   "source": [
    "## Image Analysis "
   ]
  },
  {
   "cell_type": "markdown",
   "id": "4aac598c",
   "metadata": {},
   "source": [
    "+ Identify the image distribution: number of images per mobile phone brand class\n",
    "+ Detect irrelevant images and nullvalues"
   ]
  },
  {
   "cell_type": "code",
   "execution_count": 7,
   "id": "ea4bea0d",
   "metadata": {},
   "outputs": [
    {
     "name": "stdout",
     "output_type": "stream",
     "text": [
      "<class 'pandas.core.frame.DataFrame'>\n",
      "Index: 1148 entries, 0 to 1147\n",
      "Data columns (total 2 columns):\n",
      " #   Column       Non-Null Count  Dtype \n",
      "---  ------       --------------  ----- \n",
      " 0   Image_Links  1143 non-null   object\n",
      " 1   Names        943 non-null    object\n",
      "dtypes: object(2)\n",
      "memory usage: 26.9+ KB\n"
     ]
    }
   ],
   "source": [
    "# Extract image URLS\n",
    "image_ds = data[[\"Image_Links\", \"Names\"]]\n",
    "image_ds.info()"
   ]
  },
  {
   "cell_type": "code",
   "execution_count": null,
   "id": "3a7630c8",
   "metadata": {},
   "outputs": [
    {
     "ename": "KeyError",
     "evalue": "False",
     "output_type": "error",
     "traceback": [
      "\u001b[31m---------------------------------------------------------------------------\u001b[39m",
      "\u001b[31mKeyError\u001b[39m                                  Traceback (most recent call last)",
      "\u001b[36mFile \u001b[39m\u001b[32mc:\\Development\\Projects\\MachineLearning\\Mobile-Image_Classifier-System\\.mics_env\\Lib\\site-packages\\pandas\\core\\indexes\\base.py:3812\u001b[39m, in \u001b[36mIndex.get_loc\u001b[39m\u001b[34m(self, key)\u001b[39m\n\u001b[32m   3811\u001b[39m \u001b[38;5;28;01mtry\u001b[39;00m:\n\u001b[32m-> \u001b[39m\u001b[32m3812\u001b[39m     \u001b[38;5;28;01mreturn\u001b[39;00m \u001b[38;5;28;43mself\u001b[39;49m\u001b[43m.\u001b[49m\u001b[43m_engine\u001b[49m\u001b[43m.\u001b[49m\u001b[43mget_loc\u001b[49m\u001b[43m(\u001b[49m\u001b[43mcasted_key\u001b[49m\u001b[43m)\u001b[49m\n\u001b[32m   3813\u001b[39m \u001b[38;5;28;01mexcept\u001b[39;00m \u001b[38;5;167;01mKeyError\u001b[39;00m \u001b[38;5;28;01mas\u001b[39;00m err:\n",
      "\u001b[36mFile \u001b[39m\u001b[32mpandas/_libs/index.pyx:167\u001b[39m, in \u001b[36mpandas._libs.index.IndexEngine.get_loc\u001b[39m\u001b[34m()\u001b[39m\n",
      "\u001b[36mFile \u001b[39m\u001b[32mpandas/_libs/index.pyx:196\u001b[39m, in \u001b[36mpandas._libs.index.IndexEngine.get_loc\u001b[39m\u001b[34m()\u001b[39m\n",
      "\u001b[36mFile \u001b[39m\u001b[32mpandas/_libs/hashtable_class_helper.pxi:7088\u001b[39m, in \u001b[36mpandas._libs.hashtable.PyObjectHashTable.get_item\u001b[39m\u001b[34m()\u001b[39m\n",
      "\u001b[36mFile \u001b[39m\u001b[32mpandas/_libs/hashtable_class_helper.pxi:7096\u001b[39m, in \u001b[36mpandas._libs.hashtable.PyObjectHashTable.get_item\u001b[39m\u001b[34m()\u001b[39m\n",
      "\u001b[31mKeyError\u001b[39m: False",
      "\nThe above exception was the direct cause of the following exception:\n",
      "\u001b[31mKeyError\u001b[39m                                  Traceback (most recent call last)",
      "\u001b[36mCell\u001b[39m\u001b[36m \u001b[39m\u001b[32mIn[52]\u001b[39m\u001b[32m, line 3\u001b[39m\n\u001b[32m      1\u001b[39m \u001b[38;5;66;03m# Number of nullvalues for each image feature data \u001b[39;00m\n\u001b[32m      2\u001b[39m image_feature = image_ds[[\u001b[33m\"\u001b[39m\u001b[33mimages_links\u001b[39m\u001b[33m\"\u001b[39m]]\n\u001b[32m----> \u001b[39m\u001b[32m3\u001b[39m detect_nulls = \u001b[43mimage_feature\u001b[49m\u001b[43m[\u001b[49m\u001b[43m[\u001b[49m\u001b[33;43m\"\u001b[39;49m\u001b[33;43mimages_links\u001b[39;49m\u001b[33;43m\"\u001b[39;49m\u001b[43m]\u001b[49m\u001b[43m \u001b[49m\u001b[43m==\u001b[49m\u001b[43m \u001b[49m\u001b[43mnp\u001b[49m\u001b[43m.\u001b[49m\u001b[43mnan\u001b[49m\u001b[43m]\u001b[49m\n\u001b[32m      4\u001b[39m image_with_nulls = image_feature[detect_nulls]\n\u001b[32m      5\u001b[39m image_with_nulls\n",
      "\u001b[36mFile \u001b[39m\u001b[32mc:\\Development\\Projects\\MachineLearning\\Mobile-Image_Classifier-System\\.mics_env\\Lib\\site-packages\\pandas\\core\\frame.py:4107\u001b[39m, in \u001b[36mDataFrame.__getitem__\u001b[39m\u001b[34m(self, key)\u001b[39m\n\u001b[32m   4105\u001b[39m \u001b[38;5;28;01mif\u001b[39;00m \u001b[38;5;28mself\u001b[39m.columns.nlevels > \u001b[32m1\u001b[39m:\n\u001b[32m   4106\u001b[39m     \u001b[38;5;28;01mreturn\u001b[39;00m \u001b[38;5;28mself\u001b[39m._getitem_multilevel(key)\n\u001b[32m-> \u001b[39m\u001b[32m4107\u001b[39m indexer = \u001b[38;5;28;43mself\u001b[39;49m\u001b[43m.\u001b[49m\u001b[43mcolumns\u001b[49m\u001b[43m.\u001b[49m\u001b[43mget_loc\u001b[49m\u001b[43m(\u001b[49m\u001b[43mkey\u001b[49m\u001b[43m)\u001b[49m\n\u001b[32m   4108\u001b[39m \u001b[38;5;28;01mif\u001b[39;00m is_integer(indexer):\n\u001b[32m   4109\u001b[39m     indexer = [indexer]\n",
      "\u001b[36mFile \u001b[39m\u001b[32mc:\\Development\\Projects\\MachineLearning\\Mobile-Image_Classifier-System\\.mics_env\\Lib\\site-packages\\pandas\\core\\indexes\\base.py:3819\u001b[39m, in \u001b[36mIndex.get_loc\u001b[39m\u001b[34m(self, key)\u001b[39m\n\u001b[32m   3814\u001b[39m     \u001b[38;5;28;01mif\u001b[39;00m \u001b[38;5;28misinstance\u001b[39m(casted_key, \u001b[38;5;28mslice\u001b[39m) \u001b[38;5;129;01mor\u001b[39;00m (\n\u001b[32m   3815\u001b[39m         \u001b[38;5;28misinstance\u001b[39m(casted_key, abc.Iterable)\n\u001b[32m   3816\u001b[39m         \u001b[38;5;129;01mand\u001b[39;00m \u001b[38;5;28many\u001b[39m(\u001b[38;5;28misinstance\u001b[39m(x, \u001b[38;5;28mslice\u001b[39m) \u001b[38;5;28;01mfor\u001b[39;00m x \u001b[38;5;129;01min\u001b[39;00m casted_key)\n\u001b[32m   3817\u001b[39m     ):\n\u001b[32m   3818\u001b[39m         \u001b[38;5;28;01mraise\u001b[39;00m InvalidIndexError(key)\n\u001b[32m-> \u001b[39m\u001b[32m3819\u001b[39m     \u001b[38;5;28;01mraise\u001b[39;00m \u001b[38;5;167;01mKeyError\u001b[39;00m(key) \u001b[38;5;28;01mfrom\u001b[39;00m\u001b[38;5;250m \u001b[39m\u001b[34;01merr\u001b[39;00m\n\u001b[32m   3820\u001b[39m \u001b[38;5;28;01mexcept\u001b[39;00m \u001b[38;5;167;01mTypeError\u001b[39;00m:\n\u001b[32m   3821\u001b[39m     \u001b[38;5;66;03m# If we have a listlike key, _check_indexing_error will raise\u001b[39;00m\n\u001b[32m   3822\u001b[39m     \u001b[38;5;66;03m#  InvalidIndexError. Otherwise we fall through and re-raise\u001b[39;00m\n\u001b[32m   3823\u001b[39m     \u001b[38;5;66;03m#  the TypeError.\u001b[39;00m\n\u001b[32m   3824\u001b[39m     \u001b[38;5;28mself\u001b[39m._check_indexing_error(key)\n",
      "\u001b[31mKeyError\u001b[39m: False"
     ]
    }
   ],
   "source": [
    "# Number of nullvalues for each image feature data \n",
    "image_feature = image_ds[[\"Image_Links\"]]\n",
    "detect_nulls = image_feature[[\"Image_Links\"] == np.nan]\n",
    "image_with_nulls = image_feature[detect_nulls]\n",
    "image_with_nulls"
   ]
  },
  {
   "cell_type": "markdown",
   "id": "154636d0",
   "metadata": {},
   "source": [
    "### Insight of the Image Analysis"
   ]
  },
  {
   "cell_type": "markdown",
   "id": "b5a4324f",
   "metadata": {},
   "source": [
    "The image datasets shows 1147 images in total and contains a propertionate amount of realistic image data and irrelevant image data. From the descriptive analysis of the dataset here is an overview of the image data distribution: \n",
    "\n",
    "+ Image links: contains 1143 real data and 4 null values \n",
    "+ "
   ]
  },
  {
   "cell_type": "code",
   "execution_count": null,
   "id": "74a5f751",
   "metadata": {},
   "outputs": [],
   "source": []
  },
  {
   "cell_type": "code",
   "execution_count": null,
   "id": "b91f9614",
   "metadata": {},
   "outputs": [],
   "source": []
  },
  {
   "cell_type": "code",
   "execution_count": null,
   "id": "e962f9d4",
   "metadata": {},
   "outputs": [],
   "source": []
  },
  {
   "cell_type": "code",
   "execution_count": null,
   "id": "419c76bb",
   "metadata": {},
   "outputs": [],
   "source": []
  },
  {
   "cell_type": "code",
   "execution_count": null,
   "id": "3732e294",
   "metadata": {},
   "outputs": [],
   "source": []
  }
 ],
 "metadata": {
  "kernelspec": {
   "display_name": ".mics_env",
   "language": "python",
   "name": "python3"
  },
  "language_info": {
   "codemirror_mode": {
    "name": "ipython",
    "version": 3
   },
   "file_extension": ".py",
   "mimetype": "text/x-python",
   "name": "python",
   "nbconvert_exporter": "python",
   "pygments_lexer": "ipython3",
   "version": "3.11.9"
  }
 },
 "nbformat": 4,
 "nbformat_minor": 5
}
