{
 "cells": [
  {
   "cell_type": "markdown",
   "id": "2f95c5f5",
   "metadata": {},
   "source": [
    "## Image Extraction"
   ]
  },
  {
   "cell_type": "code",
   "execution_count": 5,
   "id": "c2531baa",
   "metadata": {},
   "outputs": [],
   "source": [
    "import numpy as np \n",
    "import pandas as pd \n",
    "import matplotlib.pyplot as plt \n",
    "import os "
   ]
  },
  {
   "cell_type": "markdown",
   "id": "287bf7fc",
   "metadata": {},
   "source": [
    "Image Extraction: Procedure\n",
    "\n",
    "+ Loading the mobile phone image dataset\n",
    "+ Image Analysis: identify the distribution and the graphical representation of an image\n",
    "+ Dowloading the images\n",
    "+ Storing the images in seperate folders: train, test and validation"
   ]
  },
  {
   "cell_type": "markdown",
   "id": "7d95fbe9",
   "metadata": {},
   "source": [
    "### Loading mobile image dataset"
   ]
  },
  {
   "cell_type": "markdown",
   "id": "519adeb7",
   "metadata": {},
   "source": [
    "1. Select a folder"
   ]
  },
  {
   "cell_type": "code",
   "execution_count": 6,
   "id": "abefc552",
   "metadata": {},
   "outputs": [],
   "source": [
    "# Implement function for selecting a folder \n",
    "def select_folder(sel_folder: str) -> str:\n",
    "    # Initialise project path and data folder name\n",
    "    proj_path = \"C:\\\\Development\\\\Projects\\\\MachineLearning\\\\Mobile-Image_Classifier-System\"\n",
    "    source_folder_name = \"data\"\n",
    "\n",
    "    # Create source folder variable\n",
    "    source_folder = os.path.join(proj_path, source_folder_name)\n",
    "\n",
    "    # Iteration: check if all required folders exist\n",
    "    for folder in os.listdir(source_folder):\n",
    "        try:\n",
    "            # Create folder path variable\n",
    "            folder_path = os.path.join(source_folder, folder)\n",
    "\n",
    "            # Check if folder exist\n",
    "            if not os.path.exists(folder_path):\n",
    "                # Create a new existing folder\n",
    "                new_folder = os.path.join(folder_path, folder)\n",
    "                os.mkdir(new_folder)\n",
    "        except OSError:\n",
    "            # print(folder_path)\n",
    "            print(new_folder)\n",
    "\n",
    "    # Select the required folder \n",
    "    if sel_folder in os.listdir(source_folder):\n",
    "        selected_folder_path = os.path.join(source_folder, sel_folder)\n",
    "        return selected_folder_path\n"
   ]
  },
  {
   "cell_type": "markdown",
   "id": "fd91ee88",
   "metadata": {},
   "source": [
    "2. Select a csv-file from a folder"
   ]
  },
  {
   "cell_type": "code",
   "execution_count": 7,
   "id": "c994e47b",
   "metadata": {},
   "outputs": [],
   "source": [
    "# Select a CSV-file from a folder\n",
    "def select_csv_file(filename: str, folder: str) -> str:\n",
    "    # Select a folder\n",
    "    sel_folder = select_folder(folder)\n",
    "    \n",
    "    # Select a csv-file (if it exists)\n",
    "    csv_filename = f\"{filename}.csv\"\n",
    "    \n",
    "    if csv_filename in os.listdir(sel_folder):\n",
    "        filename_path = os.path.join(sel_folder, csv_filename)\n",
    "        return filename_path\n",
    "\n",
    "    # return sel_folder"
   ]
  },
  {
   "cell_type": "code",
   "execution_count": null,
   "id": "cb141d54",
   "metadata": {},
   "outputs": [
    {
     "data": {
      "text/html": [
       "<div>\n",
       "<style scoped>\n",
       "    .dataframe tbody tr th:only-of-type {\n",
       "        vertical-align: middle;\n",
       "    }\n",
       "\n",
       "    .dataframe tbody tr th {\n",
       "        vertical-align: top;\n",
       "    }\n",
       "\n",
       "    .dataframe thead th {\n",
       "        text-align: right;\n",
       "    }\n",
       "</style>\n",
       "<table border=\"1\" class=\"dataframe\">\n",
       "  <thead>\n",
       "    <tr style=\"text-align: right;\">\n",
       "      <th></th>\n",
       "      <th>Names</th>\n",
       "      <th>Image_Links</th>\n",
       "      <th>Stars</th>\n",
       "      <th>Rating&amp;Reviews</th>\n",
       "      <th>Price_Details</th>\n",
       "      <th>Memory</th>\n",
       "      <th>Camara_Info</th>\n",
       "      <th>Display</th>\n",
       "      <th>Battery</th>\n",
       "      <th>Processor</th>\n",
       "      <th>Warranty</th>\n",
       "    </tr>\n",
       "  </thead>\n",
       "  <tbody>\n",
       "    <tr>\n",
       "      <th>0</th>\n",
       "      <td>SAMSUNG Galaxy F13 (Waterfall Blue, 64 GB)</td>\n",
       "      <td>https://rukminim1.flixcart.com/image/312/312/x...</td>\n",
       "      <td>4.4</td>\n",
       "      <td>1,20,759 Ratings &amp; 7,003 Reviews</td>\n",
       "      <td>₹9,699\\n₹14,99935% off</td>\n",
       "      <td>4 GB RAM | 64 GB ROM | Expandable Upto 1 TB</td>\n",
       "      <td>50MP + 5MP + 2MP | 8MP Front Camera</td>\n",
       "      <td>16.76 cm (6.6 inch) Full HD+ Display</td>\n",
       "      <td>6000 mAh Lithium Ion Battery</td>\n",
       "      <td>Exynos 850 Processor</td>\n",
       "      <td>1 Year Warranty Provided By the Manufacturer f...</td>\n",
       "    </tr>\n",
       "  </tbody>\n",
       "</table>\n",
       "</div>"
      ],
      "text/plain": [
       "                                        Names  \\\n",
       "0  SAMSUNG Galaxy F13 (Waterfall Blue, 64 GB)   \n",
       "\n",
       "                                         Image_Links  Stars  \\\n",
       "0  https://rukminim1.flixcart.com/image/312/312/x...    4.4   \n",
       "\n",
       "                     Rating&Reviews           Price_Details  \\\n",
       "0  1,20,759 Ratings & 7,003 Reviews  ₹9,699\\n₹14,99935% off   \n",
       "\n",
       "                                        Memory  \\\n",
       "0  4 GB RAM | 64 GB ROM | Expandable Upto 1 TB   \n",
       "\n",
       "                           Camara_Info                               Display  \\\n",
       "0  50MP + 5MP + 2MP | 8MP Front Camera  16.76 cm (6.6 inch) Full HD+ Display   \n",
       "\n",
       "                        Battery             Processor  \\\n",
       "0  6000 mAh Lithium Ion Battery  Exynos 850 Processor   \n",
       "\n",
       "                                            Warranty  \n",
       "0  1 Year Warranty Provided By the Manufacturer f...  "
      ]
     },
     "execution_count": 8,
     "metadata": {},
     "output_type": "execute_result"
    }
   ],
   "source": [
    "# Load the dataset\n",
    "csv_file = select_csv_file(filename=\"mobiles\", folder=\"datasets\")\n",
    "data = pd.read_csv(csv_file, index_col=0)\n",
    "data.head(1)\n",
    "\n",
    "# Rename the columns\n",
    "# data.columns"
   ]
  },
  {
   "cell_type": "markdown",
   "id": "9c06b673",
   "metadata": {},
   "source": [
    "## Image Analysis "
   ]
  },
  {
   "cell_type": "markdown",
   "id": "4aac598c",
   "metadata": {},
   "source": [
    "+ Identify the image distribution: number of images per mobile phone brand class\n",
    "+ Detect irrelevant images and nullvalues"
   ]
  },
  {
   "cell_type": "code",
   "execution_count": 9,
   "id": "ea4bea0d",
   "metadata": {},
   "outputs": [
    {
     "name": "stdout",
     "output_type": "stream",
     "text": [
      "<class 'pandas.core.frame.DataFrame'>\n",
      "Index: 1148 entries, 0 to 1147\n",
      "Data columns (total 2 columns):\n",
      " #   Column       Non-Null Count  Dtype \n",
      "---  ------       --------------  ----- \n",
      " 0   Image_Links  1143 non-null   object\n",
      " 1   Names        943 non-null    object\n",
      "dtypes: object(2)\n",
      "memory usage: 26.9+ KB\n"
     ]
    }
   ],
   "source": [
    "# Extract image URLS\n",
    "image_ds = data[[\"Image_Links\", \"Names\"]]\n",
    "image_ds.info()"
   ]
  },
  {
   "cell_type": "code",
   "execution_count": 10,
   "id": "3a7630c8",
   "metadata": {},
   "outputs": [
    {
     "data": {
      "text/html": [
       "<div>\n",
       "<style scoped>\n",
       "    .dataframe tbody tr th:only-of-type {\n",
       "        vertical-align: middle;\n",
       "    }\n",
       "\n",
       "    .dataframe tbody tr th {\n",
       "        vertical-align: top;\n",
       "    }\n",
       "\n",
       "    .dataframe thead th {\n",
       "        text-align: right;\n",
       "    }\n",
       "</style>\n",
       "<table border=\"1\" class=\"dataframe\">\n",
       "  <thead>\n",
       "    <tr style=\"text-align: right;\">\n",
       "      <th></th>\n",
       "      <th>Image_Feature</th>\n",
       "      <th>Nullvalues</th>\n",
       "      <th>Real_values</th>\n",
       "    </tr>\n",
       "  </thead>\n",
       "  <tbody>\n",
       "    <tr>\n",
       "      <th>0</th>\n",
       "      <td>Image_Links</td>\n",
       "      <td>5</td>\n",
       "      <td>1143</td>\n",
       "    </tr>\n",
       "    <tr>\n",
       "      <th>1</th>\n",
       "      <td>Names</td>\n",
       "      <td>205</td>\n",
       "      <td>943</td>\n",
       "    </tr>\n",
       "  </tbody>\n",
       "</table>\n",
       "</div>"
      ],
      "text/plain": [
       "  Image_Feature  Nullvalues  Real_values\n",
       "0   Image_Links           5         1143\n",
       "1         Names         205          943"
      ]
     },
     "execution_count": 10,
     "metadata": {},
     "output_type": "execute_result"
    }
   ],
   "source": [
    "# Number of nullvalues for each image feature data \n",
    "miss_vals_df = image_ds.isnull().sum().to_frame().reset_index()\n",
    "miss_vals_df = miss_vals_df.rename(columns={\n",
    "    \"index\": \"Image_Feature\",\n",
    "    0: \"Nullvalues\" \n",
    "})\n",
    "\n",
    "# Add columns of real values\n",
    "real_img_links = image_ds[\"Image_Links\"].shape[0] - 5\n",
    "real_names = image_ds[\"Names\"].shape[0] - 205\n",
    "\n",
    "miss_vals_df[\"Real_values\"] = pd.Series([real_img_links, real_names])\n",
    "miss_vals_df"
   ]
  },
  {
   "cell_type": "markdown",
   "id": "b9465d2a",
   "metadata": {},
   "source": [
    "**Visualise distribution of null values : CHECK LATER!!"
   ]
  },
  {
   "cell_type": "code",
   "execution_count": 11,
   "id": "9cd5e63c",
   "metadata": {},
   "outputs": [],
   "source": [
    "# # Create a column chart (vertical) \n",
    "# # Initialise constants: real values, null values and image features \n",
    "# image_links = np.array([5, 1143])\n",
    "# names = np.array([205, 943])\n",
    "\n",
    "# x_img_labels = np.array([\"Nullvalues\", \"Real_values\"])\n",
    "\n",
    "# # Create \n",
    "# nd = np.arange(len())  # the x locations for the groups\n",
    "# width = 0.35  # the width of the bars\n",
    "\n",
    "# fig, ax = plt.subplots()\n",
    "# rects1 = ax.bar(ind - width/2, men_means, width, yerr=men_std,\n",
    "#                 label='Men')\n",
    "# rects2 = ax.bar(ind + width/2, women_means, width, yerr=women_std,\n",
    "#                 label='Women')\n",
    "\n",
    "# # Add some text for labels, title and custom x-axis tick labels, etc.\n",
    "# ax.set_ylabel('Scores')\n",
    "# ax.set_title('Scores by group and gender')\n",
    "# ax.set_xticks(ind)\n",
    "# ax.set_xticklabels(('G1', 'G2', 'G3', 'G4', 'G5'))\n",
    "# ax.legend()\n",
    "\n",
    "\n",
    "# def autolabel(rects, xpos='center'):\n",
    "#     \"\"\"\n",
    "#     Attach a text label above each bar in *rects*, displaying its height.\n",
    "\n",
    "#     *xpos* indicates which side to place the text w.r.t. the center of\n",
    "#     the bar. It can be one of the following {'center', 'right', 'left'}.\n",
    "#     \"\"\"\n",
    "\n",
    "#     ha = {'center': 'center', 'right': 'left', 'left': 'right'}\n",
    "#     offset = {'center': 0, 'right': 1, 'left': -1}\n",
    "\n",
    "#     for rect in rects:\n",
    "#         height = rect.get_height()\n",
    "#         ax.annotate('{}'.format(height),\n",
    "#                     xy=(rect.get_x() + rect.get_width() / 2, height),\n",
    "#                     xytext=(offset[xpos]*3, 3),  # use 3 points offset\n",
    "#                     textcoords=\"offset points\",  # in both directions\n",
    "#                     ha=ha[xpos], va='bottom')\n",
    "\n",
    "\n",
    "# autolabel(rects1, \"left\")\n",
    "# autolabel(rects2, \"right\")\n",
    "\n",
    "# fig.tight_layout()\n",
    "\n",
    "# plt.show()\n"
   ]
  },
  {
   "cell_type": "markdown",
   "id": "154636d0",
   "metadata": {},
   "source": [
    "### Insight of the Image Analysis"
   ]
  },
  {
   "cell_type": "markdown",
   "id": "b5a4324f",
   "metadata": {},
   "source": [
    "The image datasets shows 1147 images in total and contains a propertionate amount of realistic image data and irrelevant image data. From the descriptive analysis of the dataset here is an overview of the image data distribution: \n",
    "\n",
    "+ Image links: contains 1143 real data and 5 null values \n",
    "+ Names: contains 205 null values and 943 real values"
   ]
  },
  {
   "cell_type": "markdown",
   "id": "419c76bb",
   "metadata": {},
   "source": [
    "## Save image dataset"
   ]
  },
  {
   "cell_type": "code",
   "execution_count": 12,
   "id": "3732e294",
   "metadata": {},
   "outputs": [],
   "source": [
    "image_ds.to_csv(\"image_ds1.csv\")"
   ]
  }
 ],
 "metadata": {
  "kernelspec": {
   "display_name": ".mics_env",
   "language": "python",
   "name": "python3"
  },
  "language_info": {
   "codemirror_mode": {
    "name": "ipython",
    "version": 3
   },
   "file_extension": ".py",
   "mimetype": "text/x-python",
   "name": "python",
   "nbconvert_exporter": "python",
   "pygments_lexer": "ipython3",
   "version": "3.11.9"
  }
 },
 "nbformat": 4,
 "nbformat_minor": 5
}
