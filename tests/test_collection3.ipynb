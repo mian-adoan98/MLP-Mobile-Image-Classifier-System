{
 "cells": [
  {
   "cell_type": "markdown",
   "id": "4871a904",
   "metadata": {},
   "source": [
    "# Data Collection: Test phase 3"
   ]
  },
  {
   "cell_type": "code",
   "execution_count": 1,
   "id": "7715113a",
   "metadata": {},
   "outputs": [],
   "source": [
    "# Import libraries for system configuration\n",
    "import os \n",
    "import sys \n",
    "\n",
    "sys.path.append(os.path.abspath(\"..\"))\n",
    "\n",
    "# Implement collection dependencies\n",
    "from scripts.collection.paginator import Paginator\n",
    "from scripts.collection.collector import WebCollector"
   ]
  },
  {
   "cell_type": "markdown",
   "id": "24f92b69",
   "metadata": {},
   "source": [
    "Pagination Procedure: \n",
    "\n",
    "- Test 1: use paginator of webpages using Paginator\n",
    "- Test 2: use webcollector to collect all pages into a textfile"
   ]
  },
  {
   "cell_type": "markdown",
   "id": "04b9d4c6",
   "metadata": {},
   "source": [
    "## Pagination"
   ]
  },
  {
   "cell_type": "code",
   "execution_count": 2,
   "id": "b2970619",
   "metadata": {},
   "outputs": [],
   "source": [
    "# Initialise constant\n",
    "weblink = \"https://www.mobileshop.eu\""
   ]
  },
  {
   "cell_type": "code",
   "execution_count": 3,
   "id": "be50679f",
   "metadata": {},
   "outputs": [
    {
     "name": "stdout",
     "output_type": "stream",
     "text": [
      "Scraping https://www.mobileshop.eu/android-os/\n",
      "Scraping https://www.mobileshop.eu/android-os/page-2/\n",
      "Scraping https://www.mobileshop.eu/android-os/page-3/\n",
      "Scraping https://www.mobileshop.eu/android-os/page-4/\n",
      "Scraping https://www.mobileshop.eu/android-os/page-5/\n",
      "Scraping https://www.mobileshop.eu/android-os/page-6/\n",
      "Scraping https://www.mobileshop.eu/android-os/page-7/\n",
      "Scraping https://www.mobileshop.eu/android-os/page-8/\n",
      "Scraping https://www.mobileshop.eu/android-os/page-9/\n",
      "Scraping https://www.mobileshop.eu/android-os/page-10/\n",
      "Scraping https://www.mobileshop.eu/android-os/page-11/\n",
      "Scraping https://www.mobileshop.eu/android-os/page-12/\n",
      "Scraping https://www.mobileshop.eu/android-os/page-13/\n",
      "Scraping https://www.mobileshop.eu/android-os/page-14/\n",
      "Scraping https://www.mobileshop.eu/android-os/page-15/\n",
      "Scraping https://www.mobileshop.eu/android-os/page-16/\n",
      "Scraping https://www.mobileshop.eu/android-os/page-17/\n"
     ]
    }
   ],
   "source": [
    "paginator = Paginator(base_url=weblink)\n",
    "weblink_list = paginator.extract_all()"
   ]
  },
  {
   "cell_type": "markdown",
   "id": "7fc92293",
   "metadata": {},
   "source": [
    "## Web Collection"
   ]
  },
  {
   "cell_type": "code",
   "execution_count": 4,
   "id": "e5557f2e",
   "metadata": {},
   "outputs": [],
   "source": [
    "# Intialise constants \n",
    "raw_data_folder = \"raw_data\""
   ]
  },
  {
   "cell_type": "code",
   "execution_count": 5,
   "id": "f95ba454",
   "metadata": {},
   "outputs": [
    {
     "name": "stdout",
     "output_type": "stream",
     "text": [
      "Sucessfully collected 17 webpages\n"
     ]
    }
   ],
   "source": [
    "# Instantiate the webcollector object\n",
    "webcollector = WebCollector(folder=raw_data_folder, weblinks=weblink_list)\n",
    "webcollector.collect(\"mobileshop_webpages.txt\")"
   ]
  },
  {
   "cell_type": "code",
   "execution_count": null,
   "id": "8c5bc8dd",
   "metadata": {},
   "outputs": [],
   "source": []
  }
 ],
 "metadata": {
  "kernelspec": {
   "display_name": ".mics_env",
   "language": "python",
   "name": "python3"
  },
  "language_info": {
   "codemirror_mode": {
    "name": "ipython",
    "version": 3
   },
   "file_extension": ".py",
   "mimetype": "text/x-python",
   "name": "python",
   "nbconvert_exporter": "python",
   "pygments_lexer": "ipython3",
   "version": "3.11.9"
  }
 },
 "nbformat": 4,
 "nbformat_minor": 5
}
