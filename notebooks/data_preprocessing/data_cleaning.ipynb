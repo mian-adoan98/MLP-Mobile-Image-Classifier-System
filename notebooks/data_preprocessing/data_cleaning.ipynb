{
 "cells": [
  {
   "cell_type": "markdown",
   "id": "34976a8c",
   "metadata": {},
   "source": [
    "## Data Cleaning"
   ]
  },
  {
   "cell_type": "code",
   "execution_count": 1,
   "id": "8bf6b03b",
   "metadata": {},
   "outputs": [],
   "source": [
    "# Import libraries for cleaning the data\n",
    "import pandas as pd \n",
    "import numpy as np "
   ]
  },
  {
   "cell_type": "markdown",
   "id": "7ac1bc56",
   "metadata": {},
   "source": [
    "Approach: \n",
    "\n",
    "+ Data Loading\n",
    "+ Data Cleaning\n",
    "+ Saving dataset"
   ]
  },
  {
   "cell_type": "markdown",
   "id": "a956ffd5",
   "metadata": {},
   "source": [
    "## Data Loading"
   ]
  },
  {
   "cell_type": "code",
   "execution_count": null,
   "id": "c59f49d2",
   "metadata": {},
   "outputs": [],
   "source": []
  },
  {
   "cell_type": "code",
   "execution_count": null,
   "id": "08203204",
   "metadata": {},
   "outputs": [],
   "source": []
  }
 ],
 "metadata": {
  "kernelspec": {
   "display_name": ".mics_env",
   "language": "python",
   "name": "python3"
  },
  "language_info": {
   "codemirror_mode": {
    "name": "ipython",
    "version": 3
   },
   "file_extension": ".py",
   "mimetype": "text/x-python",
   "name": "python",
   "nbconvert_exporter": "python",
   "pygments_lexer": "ipython3",
   "version": "3.11.9"
  }
 },
 "nbformat": 4,
 "nbformat_minor": 5
}
