{
 "cells": [
  {
   "cell_type": "markdown",
   "id": "6217314e",
   "metadata": {},
   "source": [
    "# Paginisation"
   ]
  },
  {
   "cell_type": "code",
   "execution_count": 7,
   "id": "c3d4459e",
   "metadata": {},
   "outputs": [],
   "source": [
    "import requests\n",
    "import os \n",
    "import lxml\n",
    "from bs4 import BeautifulSoup\n",
    "from urllib.parse import urljoin"
   ]
  },
  {
   "cell_type": "code",
   "execution_count": 8,
   "id": "ce5190ae",
   "metadata": {},
   "outputs": [],
   "source": [
    "# Approach\n",
    "\n",
    "# Extract weblink from paginised array list\n",
    "# Store extracted weblinks into list: webpage_urls\n",
    "\n",
    "# Iteration: \n",
    "# - add weblinks into list \n",
    "# - add weblinks into textfile \n",
    "# Save textfile into raw_data folder \n"
   ]
  },
  {
   "cell_type": "code",
   "execution_count": 9,
   "id": "c33b5a8e",
   "metadata": {},
   "outputs": [],
   "source": [
    "# Initialise website \n",
    "website_url1 = \"https://www.mobileshop.eu/android-os/page-3/\"\n",
    "website_url2 = \"https://www.mobileshop.eu/android-os/page-13/\"\n",
    "website_url3 = \"https://www.mobileshop.eu/android-os/page-18/\""
   ]
  },
  {
   "cell_type": "code",
   "execution_count": 10,
   "id": "f0e88d50",
   "metadata": {},
   "outputs": [],
   "source": [
    "# # Extract pages \n",
    "# def verify_link(website_url: str) -> BeautifulSoup: \n",
    "#     response = requests.get(website_url)\n",
    "\n",
    "#     if response.status_code == 200:\n",
    "#         webpage_html = response.text\n",
    "#         soup = BeautifulSoup(webpage_html, \"lxml\")\n",
    "#         print(\"Extract web content successfully!\")\n",
    "#     else:\n",
    "#         print(f\"Extract web content not successfully. Status code = {response.status_code}\")\n",
    "    \n",
    "#     return soup"
   ]
  },
  {
   "cell_type": "code",
   "execution_count": 11,
   "id": "d5a8eb6d",
   "metadata": {},
   "outputs": [],
   "source": [
    "# def extract_weblinks(website_url: str):\n",
    "#     # Extract elements that contain page links\n",
    "#     soup = verify_link(website_url)\n",
    "#     page_link_els = soup.select(\".pager a\")\n",
    "#     page_link_els\n",
    "\n",
    "#     # Iteration: Extracting remaining page links\n",
    "     \n",
    "#     page_links = []\n",
    "\n",
    "#     for page_link_el in page_link_els:\n",
    "#         # Extract page url\n",
    "#         link = urljoin(website_url, page_link_el.get(\"href\"))\n",
    "#         response = requests.get(link)\n",
    "#         soup = BeautifulSoup(response.text, \"lxml\")\n",
    "#         page_link = response.url\n",
    "\n",
    "#         # Add page link into list\n",
    "#         page_links.append(page_link)\n",
    "\n",
    "#     print(page_links)\n",
    "#     return page_links"
   ]
  },
  {
   "cell_type": "code",
   "execution_count": 12,
   "id": "73b04c01",
   "metadata": {},
   "outputs": [],
   "source": [
    "# page_links1 = extract_weblinks(website_url1)\n",
    "# page_links2 = extract_weblinks(website_url2)"
   ]
  },
  {
   "cell_type": "code",
   "execution_count": 13,
   "id": "6b1346ce",
   "metadata": {},
   "outputs": [],
   "source": [
    "# page_num = list(map(str, [i+1 for i in range(18)]))\n",
    "# page_num\n",
    "\n",
    "# website_urls = []\n",
    "# website_urls.append(website_url1)\n",
    "# website_urls.append(website_url2)\n",
    "# website_urls.append(website_url3)\n",
    "# page_links = page_links1 + page_links2 + website_urls\n",
    "# page_links\n",
    "\n",
    "# for page_link in page_links: \n",
    "#     # check if there are any duplicated values \n",
    "#     pass \n",
    "\n",
    "# paginised_dict = {}\n",
    "\n",
    "# for i in range(len(page_links)):\n",
    "#     # Extracting page number from link\n",
    "#     page_num = page_links[i].split(\"/\")[-2]\n",
    "    \n",
    "#     # Add page number with corresponding link in dictionary\n",
    "#     paginised_dict[page_num] = page_links[i]\n",
    "\n",
    "# paginised_dict.keys()\n",
    "# paginised_dict[\"page-1\"] = paginised_dict.pop(\"android-os\")\n",
    "# dict(sorted(paginised_dict.items()))"
   ]
  },
  {
   "cell_type": "code",
   "execution_count": 14,
   "id": "e4907ac3",
   "metadata": {},
   "outputs": [
    {
     "name": "stdout",
     "output_type": "stream",
     "text": [
      "Scraping https://www.mobileshop.eu/android-os/\n",
      "Scraping https://www.mobileshop.eu/android-os/page-2/\n",
      "Scraping https://www.mobileshop.eu/android-os/page-3/\n",
      "Scraping https://www.mobileshop.eu/android-os/page-4/\n",
      "Scraping https://www.mobileshop.eu/android-os/page-5/\n",
      "Scraping https://www.mobileshop.eu/android-os/page-6/\n",
      "Scraping https://www.mobileshop.eu/android-os/page-7/\n",
      "Scraping https://www.mobileshop.eu/android-os/page-8/\n",
      "Scraping https://www.mobileshop.eu/android-os/page-9/\n",
      "Scraping https://www.mobileshop.eu/android-os/page-10/\n",
      "Scraping https://www.mobileshop.eu/android-os/page-11/\n",
      "Scraping https://www.mobileshop.eu/android-os/page-12/\n",
      "Scraping https://www.mobileshop.eu/android-os/page-13/\n",
      "Scraping https://www.mobileshop.eu/android-os/page-14/\n",
      "Scraping https://www.mobileshop.eu/android-os/page-15/\n",
      "Scraping https://www.mobileshop.eu/android-os/page-16/\n",
      "Scraping https://www.mobileshop.eu/android-os/page-17/\n",
      "Total product links collected: 0\n"
     ]
    }
   ],
   "source": [
    "BASE_URL = \"https://www.mobileshop.eu\"\n",
    "START_PATH = \"/android-os/\"\n",
    "\n",
    "def scrape_page(full_url):\n",
    "    resp = requests.get(full_url)\n",
    "    resp.raise_for_status()\n",
    "    soup = BeautifulSoup(resp.text, \"html.parser\")\n",
    "\n",
    "    # Extract product detail links—adjust selector if needed\n",
    "    product_links = [urljoin(BASE_URL, a[\"href\"]) \n",
    "                     for a in soup.select(\"a.view-details\")]\n",
    "\n",
    "    # Extract \"next\" link\n",
    "    next_link_tag = soup.find(\"a\", string=\"next\")\n",
    "    next_url = urljoin(BASE_URL, next_link_tag[\"href\"]) if next_link_tag else None\n",
    "\n",
    "    return product_links, next_url\n",
    "\n",
    "def scrape_all(start_path=START_PATH):\n",
    "    current_url = urljoin(BASE_URL, start_path)\n",
    "    all_product_links = []\n",
    "\n",
    "    while current_url:\n",
    "        print(f\"Scraping {current_url}\")\n",
    "        links, next_url = scrape_page(current_url)\n",
    "        all_product_links.extend(links)\n",
    "        current_url = next_url\n",
    "\n",
    "    return all_product_links\n",
    "\n",
    "if __name__ == \"__main__\":\n",
    "    all_links = scrape_all()\n",
    "    print(f\"Total product links collected: {len(all_links)}\")\n",
    "    for link in all_links:\n",
    "        print(link)"
   ]
  },
  {
   "cell_type": "code",
   "execution_count": null,
   "id": "9cf01990",
   "metadata": {},
   "outputs": [],
   "source": [
    "scrape_all()"
   ]
  },
  {
   "cell_type": "code",
   "execution_count": null,
   "id": "be47f5e8",
   "metadata": {},
   "outputs": [],
   "source": []
  }
 ],
 "metadata": {
  "kernelspec": {
   "display_name": ".mics_env",
   "language": "python",
   "name": "python3"
  },
  "language_info": {
   "codemirror_mode": {
    "name": "ipython",
    "version": 3
   },
   "file_extension": ".py",
   "mimetype": "text/x-python",
   "name": "python",
   "nbconvert_exporter": "python",
   "pygments_lexer": "ipython3",
   "version": "3.11.9"
  }
 },
 "nbformat": 4,
 "nbformat_minor": 5
}
