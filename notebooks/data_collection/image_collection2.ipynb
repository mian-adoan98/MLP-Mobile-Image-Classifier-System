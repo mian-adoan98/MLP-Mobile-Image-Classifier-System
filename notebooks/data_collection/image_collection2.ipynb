{
 "cells": [
  {
   "cell_type": "markdown",
   "id": "7f6a5b30",
   "metadata": {},
   "source": [
    "# Image Collection: part 2"
   ]
  },
  {
   "cell_type": "code",
   "execution_count": 1,
   "id": "b88efab2",
   "metadata": {},
   "outputs": [],
   "source": [
    "# import libraries for image collection \n",
    "import os \n",
    "import pandas as pd \n",
    "import numpy as np \n",
    "import requests\n",
    "import time"
   ]
  },
  {
   "cell_type": "markdown",
   "id": "04a99cfc",
   "metadata": {},
   "source": [
    "## Approach:\n",
    "\n",
    "+ Data Collectiion: from Web 1: Ebay\n",
    "+ Data Collection: from Web 2: Mediamarkt\n",
    "+ Data Collection: from Web 3: other"
   ]
  },
  {
   "cell_type": "markdown",
   "id": "3e956cdd",
   "metadata": {},
   "source": [
    "## Data Collection: Web 1"
   ]
  },
  {
   "cell_type": "markdown",
   "id": "a0c48775",
   "metadata": {},
   "source": [
    "Websites are mostly loaded through javascript. Therefore, Selenium would be an approriate choice for extraction"
   ]
  },
  {
   "cell_type": "code",
   "execution_count": 2,
   "id": "77d52699",
   "metadata": {},
   "outputs": [],
   "source": [
    "# Import selenium dependencies for setting up \n",
    "from selenium import webdriver\n",
    "from selenium.webdriver.chrome.service import Service\n",
    "from webdriver_manager.chrome import ChromeDriverManager\n",
    "from selenium.webdriver.chrome.options import Options\n",
    "\n",
    "# Import selenium depdencies part 2 for extracting content from web\n",
    "from selenium.webdriver.common.by import By\n",
    "from selenium.webdriver.support.ui import WebDriverWait\n",
    "from selenium.webdriver.support import expected_conditions as EC "
   ]
  },
  {
   "cell_type": "code",
   "execution_count": 3,
   "id": "bf9def3c",
   "metadata": {},
   "outputs": [],
   "source": [
    "# Webpage for extracting content\n",
    "weblink = \"https://www.mobileshop.eu/android-os/\""
   ]
  },
  {
   "cell_type": "code",
   "execution_count": 4,
   "id": "7e530493",
   "metadata": {},
   "outputs": [],
   "source": [
    "# Load the webpage \n",
    "def extract_images(weblink: str) -> list:\n",
    "    # Set up options \n",
    "    options = Options()\n",
    "    options.add_argument(\"--disable-popup-blocking\")\n",
    "    options.add_argument(\"--disable-notifications\")\n",
    "\n",
    "    # Set up driver including options \n",
    "    driver = webdriver.Chrome(service=Service(ChromeDriverManager().install()), options=options)\n",
    "    driver.get(weblink)\n",
    "    driver.execute_script(\"window.scrollTo(0, document.body.scrollHeight);\")\n",
    "\n",
    "    time.sleep(5)\n",
    "\n",
    "    # Extract images from website \n",
    "    product_images = driver.find_elements(By.CSS_SELECTOR, \"div.product-module figure img\")\n",
    "    image_urls = [img.get_attribute(\"data-src\") or img.get_attribute(\"src\") for img in product_images]\n",
    "\n",
    "    # Quit the driver \n",
    "    driver.quit()\n",
    "\n",
    "    return image_urls\n",
    "\n",
    "    "
   ]
  },
  {
   "cell_type": "code",
   "execution_count": 5,
   "id": "2ee7b793",
   "metadata": {},
   "outputs": [
    {
     "data": {
      "text/plain": [
       "['https://images.mobileshop.eu/1747292971/product-medium/oppo-find-n5-5g-dual-sim-512gb-16gb-ram-white.jpg',\n",
       " 'https://images.mobileshop.eu/1747292925/product-medium/oppo-find-n5-5g-dual-sim-512gb-16gb-ram-black.jpg',\n",
       " 'https://images.mobileshop.eu/1753347897/product-medium/samsung-galaxy-z-fold7-5g-dual-sim-256gb-12gb-ram-sm-f966-blue.jpg',\n",
       " 'https://images.mobileshop.eu/1753347889/product-medium/samsung-galaxy-z-fold7-5g-dual-sim-256gb-12gb-ram-sm-f966-jet-black.jpg',\n",
       " 'https://images.mobileshop.eu/1738831771/product-medium/samsung-galaxy-s25-ultra-5g-dual-sim-1-tb-12gb-ram-titanium-black.jpg',\n",
       " 'https://images.mobileshop.eu/1738831856/product-medium/samsung-galaxy-s25-ultra-5g-dual-sim-1-tb-12gb-ram-titanium-white-silver.jpg',\n",
       " 'https://images.mobileshop.eu/1738831801/product-medium/samsung-galaxy-s25-ultra-5g-dual-sim-1-tb-12gb-ram-titanium-grey.jpg',\n",
       " 'https://images.mobileshop.eu/1721802790/product-medium/samsung-galaxy-z-fold6-5g-dual-sim-256gb-12gb-ram-silver.jpg',\n",
       " 'https://images.mobileshop.eu/1692962223/product-medium/samsung-galaxy-z-fold5-5g-dual-esim-256gb-12gb-ram-sm-f946-ice-blue.jpg',\n",
       " 'https://images.mobileshop.eu/1738831370/product-medium/samsung-galaxy-s25-ultra-5g-dual-sim-512gb-12gb-ram-titanium-jet-black.jpg',\n",
       " 'https://images.mobileshop.eu/1738831358/product-medium/samsung-galaxy-s25-ultra-5g-dual-sim-512gb-12gb-ram-titanium-black.jpg',\n",
       " 'https://images.mobileshop.eu/1738831727/product-medium/samsung-galaxy-s25-ultra-5g-dual-sim-512gb-12gb-ram-titanium-grey.jpg']"
      ]
     },
     "execution_count": 5,
     "metadata": {},
     "output_type": "execute_result"
    }
   ],
   "source": [
    "# Extract image data\n",
    "image_urls1 = extract_images(weblink=weblink)\n",
    "image_urls1"
   ]
  },
  {
   "cell_type": "code",
   "execution_count": 6,
   "id": "29ef13bd",
   "metadata": {},
   "outputs": [
    {
     "name": "stdout",
     "output_type": "stream",
     "text": [
      "Image stored successfully in path C:\\Development\\Projects\\MachineLearning\\Mobile-Image_Classifier-System\\data\\external_data\\image1\\image_1.png\n",
      "Image stored successfully in path C:\\Development\\Projects\\MachineLearning\\Mobile-Image_Classifier-System\\data\\external_data\\image1\\image_2.png\n",
      "Image stored successfully in path C:\\Development\\Projects\\MachineLearning\\Mobile-Image_Classifier-System\\data\\external_data\\image1\\image_3.png\n",
      "Image stored successfully in path C:\\Development\\Projects\\MachineLearning\\Mobile-Image_Classifier-System\\data\\external_data\\image1\\image_4.png\n",
      "Image stored successfully in path C:\\Development\\Projects\\MachineLearning\\Mobile-Image_Classifier-System\\data\\external_data\\image1\\image_5.png\n",
      "Image stored successfully in path C:\\Development\\Projects\\MachineLearning\\Mobile-Image_Classifier-System\\data\\external_data\\image1\\image_6.png\n",
      "Image stored successfully in path C:\\Development\\Projects\\MachineLearning\\Mobile-Image_Classifier-System\\data\\external_data\\image1\\image_7.png\n",
      "Image stored successfully in path C:\\Development\\Projects\\MachineLearning\\Mobile-Image_Classifier-System\\data\\external_data\\image1\\image_8.png\n",
      "Image stored successfully in path C:\\Development\\Projects\\MachineLearning\\Mobile-Image_Classifier-System\\data\\external_data\\image1\\image_9.png\n",
      "Image stored successfully in path C:\\Development\\Projects\\MachineLearning\\Mobile-Image_Classifier-System\\data\\external_data\\image1\\image_10.png\n",
      "Image stored successfully in path C:\\Development\\Projects\\MachineLearning\\Mobile-Image_Classifier-System\\data\\external_data\\image1\\image_11.png\n",
      "Image stored successfully in path C:\\Development\\Projects\\MachineLearning\\Mobile-Image_Classifier-System\\data\\external_data\\image1\\image_12.png\n"
     ]
    }
   ],
   "source": [
    "# Save html content in local device\n",
    "image_folder = r\"C:\\Development\\Projects\\MachineLearning\\Mobile-Image_Classifier-System\\data\\external_data\\image1\"\n",
    "\n",
    "# Check if folder exists\n",
    "if not os.path.exists(image_folder):\n",
    "    os.makedirs(image_folder, exist_ok=True)\n",
    "\n",
    "# Store the images into image folder \n",
    "for index, image_url in enumerate(image_urls1):\n",
    "    file_name = f\"image_{index + 1}.png\"\n",
    "    filepath = os.path.join(image_folder, file_name)\n",
    "\n",
    "    # Send http-request to web to get access to the image data \n",
    "    response = requests.get(image_url)\n",
    "    if response.status_code == 200:\n",
    "        # Download image + Store into the matching file path\n",
    "        with open(filepath, \"wb\") as item:\n",
    "            item.write(response.content)\n",
    "\n",
    "        print(f\"Image stored successfully in path {filepath}\")\n",
    "    else:\n",
    "        print(f\"Failed to download image. Status code = {response.status_code}\")\n",
    "\n"
   ]
  },
  {
   "cell_type": "code",
   "execution_count": null,
   "id": "44f17a4f",
   "metadata": {},
   "outputs": [],
   "source": []
  },
  {
   "cell_type": "code",
   "execution_count": null,
   "id": "ad54bf36",
   "metadata": {},
   "outputs": [],
   "source": []
  },
  {
   "cell_type": "code",
   "execution_count": null,
   "id": "0dbfbf94",
   "metadata": {},
   "outputs": [],
   "source": []
  }
 ],
 "metadata": {
  "kernelspec": {
   "display_name": ".mics_env",
   "language": "python",
   "name": "python3"
  },
  "language_info": {
   "codemirror_mode": {
    "name": "ipython",
    "version": 3
   },
   "file_extension": ".py",
   "mimetype": "text/x-python",
   "name": "python",
   "nbconvert_exporter": "python",
   "pygments_lexer": "ipython3",
   "version": "3.11.9"
  }
 },
 "nbformat": 4,
 "nbformat_minor": 5
}
