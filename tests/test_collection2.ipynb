{
 "cells": [
  {
   "cell_type": "markdown",
   "id": "50f2af1f",
   "metadata": {},
   "source": [
    "## Data Collection: Test Phase 2 "
   ]
  },
  {
   "cell_type": "code",
   "execution_count": 1,
   "id": "800d671e",
   "metadata": {},
   "outputs": [],
   "source": [
    "# Import libraries for system configuration\n",
    "import os \n",
    "import sys \n",
    "\n",
    "sys.path.append(os.path.abspath(\"..\"))\n",
    "\n",
    "# Import python depdencies\n",
    "import scripts\n",
    "from scripts.collection.collector import LabelCollector\n",
    "from scripts.collection.extractor import LabelExtractor"
   ]
  },
  {
   "cell_type": "markdown",
   "id": "cd0a43c2",
   "metadata": {},
   "source": [
    "## Test Procedure"
   ]
  },
  {
   "cell_type": "markdown",
   "id": "ac398eb5",
   "metadata": {},
   "source": [
    "Two tests will be executed: \n",
    "\n",
    "+ LabelExtractor: checking if LabelExtractor actually scrapes a number of labels from a selected weblink\n",
    "+ LabelCollector: check if LabelCollector actually downloaded the image urls and store all labels into a chosen folder if it exists"
   ]
  },
  {
   "cell_type": "markdown",
   "id": "2dad1c8a",
   "metadata": {},
   "source": [
    "**Test 1: Label Extraction**"
   ]
  },
  {
   "cell_type": "code",
   "execution_count": 2,
   "id": "6bcde299",
   "metadata": {},
   "outputs": [],
   "source": [
    "# Initialise constant\n",
    "mobileshop_link = \"https://www.mobileshop.eu/android-os/\""
   ]
  },
  {
   "cell_type": "code",
   "execution_count": 3,
   "id": "76b267ab",
   "metadata": {},
   "outputs": [
    {
     "name": "stdout",
     "output_type": "stream",
     "text": [
      "Extract 12 from https://www.mobileshop.eu/android-os/\n"
     ]
    }
   ],
   "source": [
    "# Build a LabelExtractor-object\n",
    "label_extractor = LabelExtractor()\n",
    "labels = label_extractor.extract(mobileshop_link)"
   ]
  },
  {
   "cell_type": "markdown",
   "id": "de1bf3ae",
   "metadata": {},
   "source": [
    "**Test 2: Label Collection**"
   ]
  },
  {
   "cell_type": "code",
   "execution_count": 4,
   "id": "1ed75aed",
   "metadata": {},
   "outputs": [],
   "source": [
    "# Initialise constant\n",
    "data_folder = \"dataset\""
   ]
  },
  {
   "cell_type": "code",
   "execution_count": 6,
   "id": "76bd33e4",
   "metadata": {},
   "outputs": [
    {
     "data": {
      "application/vnd.microsoft.datawrangler.viewer.v0+json": {
       "columns": [
        {
         "name": "index",
         "rawType": "int64",
         "type": "integer"
        },
        {
         "name": "Labels",
         "rawType": "object",
         "type": "string"
        }
       ],
       "ref": "528d39d4-859d-4114-9897-3f279659b4ac",
       "rows": [
        [
         "0",
         "Oppo Find N5 5G Dual SIM 512GB 16GB RAM White"
        ],
        [
         "1",
         "Oppo Find N5 5G Dual SIM 512GB 16GB RAM Black"
        ],
        [
         "2",
         "Samsung Galaxy Z Fold7 5G Dual SIM 256GB 12GB RAM SM-F966 Blue"
        ],
        [
         "3",
         "Samsung Galaxy Z Fold7 5G Dual SIM 256GB 12GB RAM SM-F966 Jet Black"
        ],
        [
         "4",
         "Samsung Galaxy S25 Ultra 5G Dual SIM 1 TB 12GB RAM Titanium Black"
        ],
        [
         "5",
         "Samsung Galaxy S25 Ultra 5G Dual SIM 1 TB 12GB RAM Titanium White Silver"
        ],
        [
         "6",
         "Samsung Galaxy S25 Ultra 5G Dual SIM 1 TB 12GB RAM Titanium Grey"
        ],
        [
         "7",
         "Samsung Galaxy Z Fold6 5G Dual SIM 256GB 12GB RAM Silver"
        ],
        [
         "8",
         "Samsung Galaxy Z Fold5 5G Dual eSIM 256GB 12GB RAM SM-F946 Ice Blue"
        ],
        [
         "9",
         "Samsung Galaxy S25 Ultra 5G Dual SIM 512GB 12GB RAM Titanium Jet Black"
        ],
        [
         "10",
         "Samsung Galaxy S25 Ultra 5G Dual SIM 512GB 12GB RAM Titanium Black"
        ],
        [
         "11",
         "Samsung Galaxy S25 Ultra 5G Dual SIM 512GB 12GB RAM Titanium Grey"
        ]
       ],
       "shape": {
        "columns": 1,
        "rows": 12
       }
      },
      "text/html": [
       "<div>\n",
       "<style scoped>\n",
       "    .dataframe tbody tr th:only-of-type {\n",
       "        vertical-align: middle;\n",
       "    }\n",
       "\n",
       "    .dataframe tbody tr th {\n",
       "        vertical-align: top;\n",
       "    }\n",
       "\n",
       "    .dataframe thead th {\n",
       "        text-align: right;\n",
       "    }\n",
       "</style>\n",
       "<table border=\"1\" class=\"dataframe\">\n",
       "  <thead>\n",
       "    <tr style=\"text-align: right;\">\n",
       "      <th></th>\n",
       "      <th>Labels</th>\n",
       "    </tr>\n",
       "  </thead>\n",
       "  <tbody>\n",
       "    <tr>\n",
       "      <th>0</th>\n",
       "      <td>Oppo Find N5 5G Dual SIM 512GB 16GB RAM White</td>\n",
       "    </tr>\n",
       "    <tr>\n",
       "      <th>1</th>\n",
       "      <td>Oppo Find N5 5G Dual SIM 512GB 16GB RAM Black</td>\n",
       "    </tr>\n",
       "    <tr>\n",
       "      <th>2</th>\n",
       "      <td>Samsung Galaxy Z Fold7 5G Dual SIM 256GB 12GB ...</td>\n",
       "    </tr>\n",
       "    <tr>\n",
       "      <th>3</th>\n",
       "      <td>Samsung Galaxy Z Fold7 5G Dual SIM 256GB 12GB ...</td>\n",
       "    </tr>\n",
       "    <tr>\n",
       "      <th>4</th>\n",
       "      <td>Samsung Galaxy S25 Ultra 5G Dual SIM 1 TB 12GB...</td>\n",
       "    </tr>\n",
       "    <tr>\n",
       "      <th>5</th>\n",
       "      <td>Samsung Galaxy S25 Ultra 5G Dual SIM 1 TB 12GB...</td>\n",
       "    </tr>\n",
       "    <tr>\n",
       "      <th>6</th>\n",
       "      <td>Samsung Galaxy S25 Ultra 5G Dual SIM 1 TB 12GB...</td>\n",
       "    </tr>\n",
       "    <tr>\n",
       "      <th>7</th>\n",
       "      <td>Samsung Galaxy Z Fold6 5G Dual SIM 256GB 12GB ...</td>\n",
       "    </tr>\n",
       "    <tr>\n",
       "      <th>8</th>\n",
       "      <td>Samsung Galaxy Z Fold5 5G Dual eSIM 256GB 12GB...</td>\n",
       "    </tr>\n",
       "    <tr>\n",
       "      <th>9</th>\n",
       "      <td>Samsung Galaxy S25 Ultra 5G Dual SIM 512GB 12G...</td>\n",
       "    </tr>\n",
       "    <tr>\n",
       "      <th>10</th>\n",
       "      <td>Samsung Galaxy S25 Ultra 5G Dual SIM 512GB 12G...</td>\n",
       "    </tr>\n",
       "    <tr>\n",
       "      <th>11</th>\n",
       "      <td>Samsung Galaxy S25 Ultra 5G Dual SIM 512GB 12G...</td>\n",
       "    </tr>\n",
       "  </tbody>\n",
       "</table>\n",
       "</div>"
      ],
      "text/plain": [
       "                                               Labels\n",
       "0       Oppo Find N5 5G Dual SIM 512GB 16GB RAM White\n",
       "1       Oppo Find N5 5G Dual SIM 512GB 16GB RAM Black\n",
       "2   Samsung Galaxy Z Fold7 5G Dual SIM 256GB 12GB ...\n",
       "3   Samsung Galaxy Z Fold7 5G Dual SIM 256GB 12GB ...\n",
       "4   Samsung Galaxy S25 Ultra 5G Dual SIM 1 TB 12GB...\n",
       "5   Samsung Galaxy S25 Ultra 5G Dual SIM 1 TB 12GB...\n",
       "6   Samsung Galaxy S25 Ultra 5G Dual SIM 1 TB 12GB...\n",
       "7   Samsung Galaxy Z Fold6 5G Dual SIM 256GB 12GB ...\n",
       "8   Samsung Galaxy Z Fold5 5G Dual eSIM 256GB 12GB...\n",
       "9   Samsung Galaxy S25 Ultra 5G Dual SIM 512GB 12G...\n",
       "10  Samsung Galaxy S25 Ultra 5G Dual SIM 512GB 12G...\n",
       "11  Samsung Galaxy S25 Ultra 5G Dual SIM 512GB 12G..."
      ]
     },
     "execution_count": 6,
     "metadata": {},
     "output_type": "execute_result"
    }
   ],
   "source": [
    "label_collector = LabelCollector(data_folder)\n",
    "label_collector.collect(labels, filename=\"mobileshop_labels1\")"
   ]
  },
  {
   "cell_type": "markdown",
   "id": "b8354038",
   "metadata": {},
   "source": [
    "Sucessfully accomplished"
   ]
  },
  {
   "cell_type": "markdown",
   "id": "1389e84d",
   "metadata": {},
   "source": []
  }
 ],
 "metadata": {
  "kernelspec": {
   "display_name": ".mics_env",
   "language": "python",
   "name": "python3"
  },
  "language_info": {
   "codemirror_mode": {
    "name": "ipython",
    "version": 3
   },
   "file_extension": ".py",
   "mimetype": "text/x-python",
   "name": "python",
   "nbconvert_exporter": "python",
   "pygments_lexer": "ipython3",
   "version": "3.11.9"
  }
 },
 "nbformat": 4,
 "nbformat_minor": 5
}
