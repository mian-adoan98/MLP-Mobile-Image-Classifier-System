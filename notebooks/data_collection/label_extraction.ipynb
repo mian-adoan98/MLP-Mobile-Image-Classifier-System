{
 "cells": [
  {
   "cell_type": "markdown",
   "id": "0ba09cec",
   "metadata": {},
   "source": [
    "## Labels Extraction"
   ]
  },
  {
   "cell_type": "code",
   "execution_count": 1,
   "id": "e5597b9e",
   "metadata": {},
   "outputs": [],
   "source": [
    "# import libraries for image collection \n",
    "import os \n",
    "import pandas as pd \n",
    "import numpy as np \n",
    "import requests\n",
    "import time"
   ]
  },
  {
   "cell_type": "markdown",
   "id": "5713a333",
   "metadata": {},
   "source": [
    "## Approach\n",
    "\n",
    "- Set up selenium driver\n",
    "- Find element containing product title\n",
    "- Extract labels using Selenium"
   ]
  },
  {
   "cell_type": "code",
   "execution_count": 3,
   "id": "33c568f4",
   "metadata": {},
   "outputs": [],
   "source": [
    "# Import selenium dependencies for setting up \n",
    "from selenium import webdriver\n",
    "from selenium.webdriver.chrome.service import Service\n",
    "from webdriver_manager.chrome import ChromeDriverManager\n",
    "from selenium.webdriver.chrome.options import Options\n",
    "\n",
    "# Import selenium depdencies part 2 for extracting content from web\n",
    "from selenium.webdriver.common.by import By\n",
    "from selenium.webdriver.support.ui import WebDriverWait\n",
    "from selenium.webdriver.support import expected_conditions as EC "
   ]
  },
  {
   "cell_type": "code",
   "execution_count": 4,
   "id": "4b6f3322",
   "metadata": {},
   "outputs": [],
   "source": [
    "# Webpage for extracting content\n",
    "weblink = \"https://www.mobileshop.eu/android-os/\""
   ]
  },
  {
   "cell_type": "code",
   "execution_count": null,
   "id": "037f5886",
   "metadata": {},
   "outputs": [],
   "source": [
    "# Load the webpage \n",
    "def extract_labels(weblink: str) -> list:\n",
    "    # Set up options \n",
    "    options = Options()\n",
    "    options.add_argument(\"--disable-popup-blocking\")\n",
    "    options.add_argument(\"--disable-notifications\")\n",
    "\n",
    "    # Set up driver including options \n",
    "    driver = webdriver.Chrome(service=Service(ChromeDriverManager().install()), options=options)\n",
    "    driver.get(weblink)\n",
    "    driver.execute_script(\"window.scrollTo(0, document.body.scrollHeight);\")\n",
    "\n",
    "    time.sleep(5)\n",
    "\n",
    "    # Extract images from website \n",
    "    product_titles = driver.find_elements(By.CSS_SELECTOR, \"div.product-name h5 a\")\n",
    "    labels = [title.text for title in product_titles]\n",
    "\n",
    "    # Number of labels\n",
    "    num_labels = len(labels)\n",
    "    print(f\"Extract {num_labels} from {weblink}\")\n",
    "    # Quit the driver \n",
    "    driver.quit()\n",
    "\n",
    "    return labels"
   ]
  },
  {
   "cell_type": "code",
   "execution_count": null,
   "id": "8a0006f0",
   "metadata": {},
   "outputs": [],
   "source": [
    "# Store labels into dataframe \n",
    "def store_labels(labels: int) -> pd.DataFrame:\n",
    "    # Create a label dataset\n",
    "    label_ds = pd.DataFrame()\n",
    "    label_ds[\"Labels\"] = labels\n",
    "\n",
    "    # Save label dataset in existing folder \n",
    "    return label_ds\n"
   ]
  },
  {
   "cell_type": "code",
   "execution_count": null,
   "id": "00ac55d5",
   "metadata": {},
   "outputs": [
    {
     "data": {
      "text/plain": [
       "12"
      ]
     },
     "execution_count": 13,
     "metadata": {},
     "output_type": "execute_result"
    }
   ],
   "source": []
  },
  {
   "cell_type": "code",
   "execution_count": null,
   "id": "64062b8e",
   "metadata": {},
   "outputs": [],
   "source": []
  }
 ],
 "metadata": {
  "kernelspec": {
   "display_name": ".mics_env",
   "language": "python",
   "name": "python3"
  },
  "language_info": {
   "codemirror_mode": {
    "name": "ipython",
    "version": 3
   },
   "file_extension": ".py",
   "mimetype": "text/x-python",
   "name": "python",
   "nbconvert_exporter": "python",
   "pygments_lexer": "ipython3",
   "version": "3.11.9"
  }
 },
 "nbformat": 4,
 "nbformat_minor": 5
}
