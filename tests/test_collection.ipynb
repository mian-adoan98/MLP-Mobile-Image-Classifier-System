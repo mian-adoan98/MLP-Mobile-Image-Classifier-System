{
 "cells": [
  {
   "cell_type": "markdown",
   "id": "4441cacd",
   "metadata": {},
   "source": [
    "## Data Collection: Test phase 1"
   ]
  },
  {
   "cell_type": "code",
   "execution_count": 1,
   "id": "9bcb7ac3",
   "metadata": {},
   "outputs": [],
   "source": [
    "# Import libraries for system configuration\n",
    "import os \n",
    "import sys \n",
    "\n",
    "sys.path.append(os.path.abspath(\"..\"))\n",
    "\n",
    "# Import python depdencies\n",
    "import scripts\n",
    "from scripts.collection.collector import ImageCollector\n",
    "from scripts.collection.extractor import ImageExtractor"
   ]
  },
  {
   "cell_type": "markdown",
   "id": "765fb13d",
   "metadata": {},
   "source": [
    "## Test procedure"
   ]
  },
  {
   "cell_type": "markdown",
   "id": "0595c2c7",
   "metadata": {},
   "source": [
    "Two tests will be executed: \n",
    "\n",
    "+ ImageExtractor: checking if ImageExtractor actually scrapes a number of images from a selected weblink\n",
    "+ ImageCollector: check if ImageCollector actually downloaded the image urls and store all images into a chosen folder if it exists"
   ]
  },
  {
   "cell_type": "markdown",
   "id": "fc1c394f",
   "metadata": {},
   "source": [
    "**Test 1: Image Extraction** "
   ]
  },
  {
   "cell_type": "code",
   "execution_count": 2,
   "id": "8a646c85",
   "metadata": {},
   "outputs": [],
   "source": [
    "# Initialise constants \n",
    "mobileshop_link = \"https://www.mobileshop.eu/android-os/\""
   ]
  },
  {
   "cell_type": "code",
   "execution_count": 3,
   "id": "c786f683",
   "metadata": {},
   "outputs": [],
   "source": [
    "# Build an ImageExtractor-object\n",
    "image_extractor = ImageExtractor()\n",
    "image_urls = image_extractor.extract(mobileshop_link)"
   ]
  },
  {
   "cell_type": "markdown",
   "id": "21eb72be",
   "metadata": {},
   "source": [
    "**Test 2: ImageCollector**"
   ]
  },
  {
   "cell_type": "code",
   "execution_count": 4,
   "id": "88783091",
   "metadata": {},
   "outputs": [],
   "source": [
    "# Initialise constants \n",
    "data_folder = \"data/external_data\""
   ]
  },
  {
   "cell_type": "code",
   "execution_count": 5,
   "id": "cd662c51",
   "metadata": {},
   "outputs": [
    {
     "name": "stdout",
     "output_type": "stream",
     "text": [
      "Image stored successfully in path C:\\Development\\Projects\\MachineLearning\\Mobile-Image_Classifier-System\\data/external_data\\image2\\image_1.png.\n",
      "Image stored successfully in path C:\\Development\\Projects\\MachineLearning\\Mobile-Image_Classifier-System\\data/external_data\\image2\\image_2.png.\n",
      "Image stored successfully in path C:\\Development\\Projects\\MachineLearning\\Mobile-Image_Classifier-System\\data/external_data\\image2\\image_3.png.\n",
      "Image stored successfully in path C:\\Development\\Projects\\MachineLearning\\Mobile-Image_Classifier-System\\data/external_data\\image2\\image_4.png.\n",
      "Image stored successfully in path C:\\Development\\Projects\\MachineLearning\\Mobile-Image_Classifier-System\\data/external_data\\image2\\image_5.png.\n",
      "Image stored successfully in path C:\\Development\\Projects\\MachineLearning\\Mobile-Image_Classifier-System\\data/external_data\\image2\\image_6.png.\n",
      "Image stored successfully in path C:\\Development\\Projects\\MachineLearning\\Mobile-Image_Classifier-System\\data/external_data\\image2\\image_7.png.\n",
      "Image stored successfully in path C:\\Development\\Projects\\MachineLearning\\Mobile-Image_Classifier-System\\data/external_data\\image2\\image_8.png.\n",
      "Image stored successfully in path C:\\Development\\Projects\\MachineLearning\\Mobile-Image_Classifier-System\\data/external_data\\image2\\image_9.png.\n",
      "Image stored successfully in path C:\\Development\\Projects\\MachineLearning\\Mobile-Image_Classifier-System\\data/external_data\\image2\\image_10.png.\n",
      "Image stored successfully in path C:\\Development\\Projects\\MachineLearning\\Mobile-Image_Classifier-System\\data/external_data\\image2\\image_11.png.\n",
      "Image stored successfully in path C:\\Development\\Projects\\MachineLearning\\Mobile-Image_Classifier-System\\data/external_data\\image2\\image_12.png.\n"
     ]
    },
    {
     "data": {
      "application/vnd.microsoft.datawrangler.viewer.v0+json": {
       "columns": [
        {
         "name": "index",
         "rawType": "int64",
         "type": "integer"
        },
        {
         "name": "ImageLink",
         "rawType": "object",
         "type": "string"
        }
       ],
       "ref": "1ad6b83a-ea3e-490b-8b81-165083e49bbc",
       "rows": [
        [
         "0",
         "https://images.mobileshop.eu/1747292971/product-medium/oppo-find-n5-5g-dual-sim-512gb-16gb-ram-white.jpg"
        ],
        [
         "1",
         "https://images.mobileshop.eu/1747292925/product-medium/oppo-find-n5-5g-dual-sim-512gb-16gb-ram-black.jpg"
        ],
        [
         "2",
         "https://images.mobileshop.eu/1753347897/product-medium/samsung-galaxy-z-fold7-5g-dual-sim-256gb-12gb-ram-sm-f966-blue.jpg"
        ],
        [
         "3",
         "https://images.mobileshop.eu/1753347889/product-medium/samsung-galaxy-z-fold7-5g-dual-sim-256gb-12gb-ram-sm-f966-jet-black.jpg"
        ],
        [
         "4",
         "https://images.mobileshop.eu/1738831771/product-medium/samsung-galaxy-s25-ultra-5g-dual-sim-1-tb-12gb-ram-titanium-black.jpg"
        ],
        [
         "5",
         "https://images.mobileshop.eu/1738831856/product-medium/samsung-galaxy-s25-ultra-5g-dual-sim-1-tb-12gb-ram-titanium-white-silver.jpg"
        ],
        [
         "6",
         "https://images.mobileshop.eu/1738831801/product-medium/samsung-galaxy-s25-ultra-5g-dual-sim-1-tb-12gb-ram-titanium-grey.jpg"
        ],
        [
         "7",
         "https://images.mobileshop.eu/1721802790/product-medium/samsung-galaxy-z-fold6-5g-dual-sim-256gb-12gb-ram-silver.jpg"
        ],
        [
         "8",
         "https://images.mobileshop.eu/1692962223/product-medium/samsung-galaxy-z-fold5-5g-dual-esim-256gb-12gb-ram-sm-f946-ice-blue.jpg"
        ],
        [
         "9",
         "https://images.mobileshop.eu/1738831370/product-medium/samsung-galaxy-s25-ultra-5g-dual-sim-512gb-12gb-ram-titanium-jet-black.jpg"
        ],
        [
         "10",
         "https://images.mobileshop.eu/1738831358/product-medium/samsung-galaxy-s25-ultra-5g-dual-sim-512gb-12gb-ram-titanium-black.jpg"
        ],
        [
         "11",
         "https://images.mobileshop.eu/1738831727/product-medium/samsung-galaxy-s25-ultra-5g-dual-sim-512gb-12gb-ram-titanium-grey.jpg"
        ]
       ],
       "shape": {
        "columns": 1,
        "rows": 12
       }
      },
      "text/html": [
       "<div>\n",
       "<style scoped>\n",
       "    .dataframe tbody tr th:only-of-type {\n",
       "        vertical-align: middle;\n",
       "    }\n",
       "\n",
       "    .dataframe tbody tr th {\n",
       "        vertical-align: top;\n",
       "    }\n",
       "\n",
       "    .dataframe thead th {\n",
       "        text-align: right;\n",
       "    }\n",
       "</style>\n",
       "<table border=\"1\" class=\"dataframe\">\n",
       "  <thead>\n",
       "    <tr style=\"text-align: right;\">\n",
       "      <th></th>\n",
       "      <th>ImageLink</th>\n",
       "    </tr>\n",
       "  </thead>\n",
       "  <tbody>\n",
       "    <tr>\n",
       "      <th>0</th>\n",
       "      <td>https://images.mobileshop.eu/1747292971/produc...</td>\n",
       "    </tr>\n",
       "    <tr>\n",
       "      <th>1</th>\n",
       "      <td>https://images.mobileshop.eu/1747292925/produc...</td>\n",
       "    </tr>\n",
       "    <tr>\n",
       "      <th>2</th>\n",
       "      <td>https://images.mobileshop.eu/1753347897/produc...</td>\n",
       "    </tr>\n",
       "    <tr>\n",
       "      <th>3</th>\n",
       "      <td>https://images.mobileshop.eu/1753347889/produc...</td>\n",
       "    </tr>\n",
       "    <tr>\n",
       "      <th>4</th>\n",
       "      <td>https://images.mobileshop.eu/1738831771/produc...</td>\n",
       "    </tr>\n",
       "    <tr>\n",
       "      <th>5</th>\n",
       "      <td>https://images.mobileshop.eu/1738831856/produc...</td>\n",
       "    </tr>\n",
       "    <tr>\n",
       "      <th>6</th>\n",
       "      <td>https://images.mobileshop.eu/1738831801/produc...</td>\n",
       "    </tr>\n",
       "    <tr>\n",
       "      <th>7</th>\n",
       "      <td>https://images.mobileshop.eu/1721802790/produc...</td>\n",
       "    </tr>\n",
       "    <tr>\n",
       "      <th>8</th>\n",
       "      <td>https://images.mobileshop.eu/1692962223/produc...</td>\n",
       "    </tr>\n",
       "    <tr>\n",
       "      <th>9</th>\n",
       "      <td>https://images.mobileshop.eu/1738831370/produc...</td>\n",
       "    </tr>\n",
       "    <tr>\n",
       "      <th>10</th>\n",
       "      <td>https://images.mobileshop.eu/1738831358/produc...</td>\n",
       "    </tr>\n",
       "    <tr>\n",
       "      <th>11</th>\n",
       "      <td>https://images.mobileshop.eu/1738831727/produc...</td>\n",
       "    </tr>\n",
       "  </tbody>\n",
       "</table>\n",
       "</div>"
      ],
      "text/plain": [
       "                                            ImageLink\n",
       "0   https://images.mobileshop.eu/1747292971/produc...\n",
       "1   https://images.mobileshop.eu/1747292925/produc...\n",
       "2   https://images.mobileshop.eu/1753347897/produc...\n",
       "3   https://images.mobileshop.eu/1753347889/produc...\n",
       "4   https://images.mobileshop.eu/1738831771/produc...\n",
       "5   https://images.mobileshop.eu/1738831856/produc...\n",
       "6   https://images.mobileshop.eu/1738831801/produc...\n",
       "7   https://images.mobileshop.eu/1721802790/produc...\n",
       "8   https://images.mobileshop.eu/1692962223/produc...\n",
       "9   https://images.mobileshop.eu/1738831370/produc...\n",
       "10  https://images.mobileshop.eu/1738831358/produc...\n",
       "11  https://images.mobileshop.eu/1738831727/produc..."
      ]
     },
     "execution_count": 5,
     "metadata": {},
     "output_type": "execute_result"
    }
   ],
   "source": [
    "# Build an ImageCollector-object \n",
    "image_collector = ImageCollector(folder=data_folder, image_urls=image_urls)\n",
    "image_collector.collect(folder_name=\"image2\")"
   ]
  },
  {
   "cell_type": "markdown",
   "id": "1fba184a",
   "metadata": {},
   "source": [
    "Successfully accomplished"
   ]
  },
  {
   "cell_type": "code",
   "execution_count": null,
   "id": "db8bfecd",
   "metadata": {},
   "outputs": [],
   "source": []
  }
 ],
 "metadata": {
  "kernelspec": {
   "display_name": ".mics_env",
   "language": "python",
   "name": "python3"
  },
  "language_info": {
   "codemirror_mode": {
    "name": "ipython",
    "version": 3
   },
   "file_extension": ".py",
   "mimetype": "text/x-python",
   "name": "python",
   "nbconvert_exporter": "python",
   "pygments_lexer": "ipython3",
   "version": "3.11.9"
  }
 },
 "nbformat": 4,
 "nbformat_minor": 5
}
